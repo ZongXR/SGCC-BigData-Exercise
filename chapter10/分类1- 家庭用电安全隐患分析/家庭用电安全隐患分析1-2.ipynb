{
 "cells": [
  {
   "cell_type": "code",
   "execution_count": null,
   "metadata": {},
   "outputs": [],
   "source": [
    "mport pandas as pd\n",
    "import numpy as np\n",
    "import datetime as datetime\n",
    "import matplotlib.pyplot as plt\n",
    "\n",
    "df = pd.read_csv(r\"E:\\工作\\河北项目\\国网试题汇编\\20191208赵佩-试题书\\分类_家庭用电安全隐患分析-试题\\分类_家庭用电安全隐患分析_答案\\1-1.csv\", low_memory=False)\n",
    "df2 = df[df[\"Date\"] == \"1/10/2007\"]\n",
    "df2['hour'] = df2['Time'].map(lambda x: datetime.datetime.strptime(x, '%H:%M:%S').hour)\n",
    "\n",
    "\n",
    "def plot_df(x, y, title=\"global_active_power\", xlabel='h', ylabel='kilowatt'):\n",
    "    plt.figure(figsize=(10, 10))\n",
    "    plt.plot(x, y, color='tab:blue')\n",
    "    plt.gca().set(title=title, xlabel=xlabel, ylabel=ylabel)\n",
    "    plt.savefig(r'E:\\工作\\河北项目\\国网试题汇编\\20191208赵佩-试题书\\分类_家庭用电安全隐患分析-试题\\分类_家庭用电安全隐患分析_答案\\1-2.png')\n",
    "    plt.show()\n",
    "\n",
    "\n",
    "x = np.arange(0, 24)\n",
    "print(x)\n",
    "y = df2.groupby('hour')['Global_active_power'].mean()\n",
    "plot_df(x, y)"
   ]
  }
 ],
 "metadata": {
  "kernelspec": {
   "display_name": "Python 3",
   "language": "python",
   "name": "python3"
  },
  "language_info": {
   "codemirror_mode": {
    "name": "ipython",
    "version": 3
   },
   "file_extension": ".py",
   "mimetype": "text/x-python",
   "name": "python",
   "nbconvert_exporter": "python",
   "pygments_lexer": "ipython3",
   "version": "3.6.4"
  }
 },
 "nbformat": 4,
 "nbformat_minor": 2
}
