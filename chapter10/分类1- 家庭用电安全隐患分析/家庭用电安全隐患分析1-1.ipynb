{
 "cells": [
  {
   "cell_type": "code",
   "execution_count": null,
   "metadata": {},
   "outputs": [],
   "source": [
    "import pandas as pd\n",
    "import numpy as np\n",
    "\n",
    "df = pd.read_csv(r\"E:/工作/河北项目/国网试题汇编/20191208赵佩-试题书/分类_家庭用电安全隐患分析-试题/分类_家庭用电安全隐患分析_试题/Household Electric Power Consumption.csv\", low_memory=False)\n",
    "df = df.replace(\"?\", 0)\n",
    "df['Global_active_power'] = pd.to_numeric(df['Global_active_power'])\n",
    "df['Global_reactive_power'] = pd.to_numeric(df['Global_reactive_power'])\n",
    "df['Voltage'] = pd.to_numeric(df['Voltage'])\n",
    "df['Global_intensity'] = pd.to_numeric(df['Global_intensity'])\n",
    "df['Sub_metering_1'] = pd.to_numeric(df['Sub_metering_1'])\n",
    "df['Sub_metering_2'] = df['Sub_metering_2'].astype(np.float)\n",
    "\n",
    "\n",
    "df['other_active_energy_consumed'] = round(df['Global_active_power'] * 1000 / 60 - df['Sub_metering_1'] - df[\n",
    "    'Sub_metering_2'] - df['Sub_metering_3'],2)\n",
    "df.to_csv(r\"E:/工作/河北项目/国网试题汇编/20191208赵佩-试题书/分类_家庭用电安全隐患分析-试题/分类_家庭用电安全隐患分析_试题/1-1.csv\", index=False)"
   ]
  }
 ],
 "metadata": {
  "kernelspec": {
   "display_name": "Python 3",
   "language": "python",
   "name": "python3"
  },
  "language_info": {
   "codemirror_mode": {
    "name": "ipython",
    "version": 3
   },
   "file_extension": ".py",
   "mimetype": "text/x-python",
   "name": "python",
   "nbconvert_exporter": "python",
   "pygments_lexer": "ipython3",
   "version": "3.6.4"
  }
 },
 "nbformat": 4,
 "nbformat_minor": 2
}
