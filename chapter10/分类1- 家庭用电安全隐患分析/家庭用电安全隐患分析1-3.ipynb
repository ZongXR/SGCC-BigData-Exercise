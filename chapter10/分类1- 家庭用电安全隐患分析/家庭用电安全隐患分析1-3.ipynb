{
 "cells": [
  {
   "cell_type": "code",
   "execution_count": 6,
   "metadata": {},
   "outputs": [
    {
     "data": {
      "text/html": [
       "<div>\n",
       "<style scoped>\n",
       "    .dataframe tbody tr th:only-of-type {\n",
       "        vertical-align: middle;\n",
       "    }\n",
       "\n",
       "    .dataframe tbody tr th {\n",
       "        vertical-align: top;\n",
       "    }\n",
       "\n",
       "    .dataframe thead th {\n",
       "        text-align: right;\n",
       "    }\n",
       "</style>\n",
       "<table border=\"1\" class=\"dataframe\">\n",
       "  <thead>\n",
       "    <tr style=\"text-align: right;\">\n",
       "      <th></th>\n",
       "      <th>Date</th>\n",
       "      <th>Time</th>\n",
       "      <th>Global_active_power</th>\n",
       "    </tr>\n",
       "  </thead>\n",
       "  <tbody>\n",
       "    <tr>\n",
       "      <th>0</th>\n",
       "      <td>1/1/2007</td>\n",
       "      <td>00:00:00</td>\n",
       "      <td>2.580</td>\n",
       "    </tr>\n",
       "    <tr>\n",
       "      <th>1</th>\n",
       "      <td>1/1/2007</td>\n",
       "      <td>00:01:00</td>\n",
       "      <td>2.552</td>\n",
       "    </tr>\n",
       "    <tr>\n",
       "      <th>2</th>\n",
       "      <td>1/1/2007</td>\n",
       "      <td>00:02:00</td>\n",
       "      <td>2.550</td>\n",
       "    </tr>\n",
       "    <tr>\n",
       "      <th>3</th>\n",
       "      <td>1/1/2007</td>\n",
       "      <td>00:03:00</td>\n",
       "      <td>2.550</td>\n",
       "    </tr>\n",
       "    <tr>\n",
       "      <th>4</th>\n",
       "      <td>1/1/2007</td>\n",
       "      <td>00:04:00</td>\n",
       "      <td>2.554</td>\n",
       "    </tr>\n",
       "  </tbody>\n",
       "</table>\n",
       "</div>"
      ],
      "text/plain": [
       "       Date      Time Global_active_power\n",
       "0  1/1/2007  00:00:00               2.580\n",
       "1  1/1/2007  00:01:00               2.552\n",
       "2  1/1/2007  00:02:00               2.550\n",
       "3  1/1/2007  00:03:00               2.550\n",
       "4  1/1/2007  00:04:00               2.554"
      ]
     },
     "execution_count": 6,
     "metadata": {},
     "output_type": "execute_result"
    }
   ],
   "source": [
    "import pandas as pd\n",
    "import numpy as np\n",
    "import datetime as datetime\n",
    "\n",
    "df = pd.read_csv(r\"E:/工作/河北项目/国网试题汇编/20191208赵佩-试题书/分类_家庭用电安全隐患分析-试题/分类_家庭用电安全隐患分析_试题/train_label.csv\", low_memory=False)\n",
    "df['hour'] = df['Time'].map(lambda x: datetime.datetime.strptime(x, '%H:%M:%S').hour)\n",
    "hour_group_count = df.groupby('hour')[\"hour\"].count()\n",
    "top3_hour = hour_group_count.sort_values(ascending=False)[:3]\n",
    "\n",
    "output = pd.DataFrame({\"Hour\":top3_hour.index.values,\"Count\":top3_hour.values})\n",
    "output.to_csv(r\"E:/工作/河北项目/国网试题汇编/20191208赵佩-试题书/分类_家庭用电安全隐患分析-试题/分类_家庭用电安全隐患分析_答案/1-3.csv\", index=False)\n",
    "\n"
   ]
  }
 ],
 "metadata": {
  "kernelspec": {
   "display_name": "Python 3",
   "language": "python",
   "name": "python3"
  },
  "language_info": {
   "codemirror_mode": {
    "name": "ipython",
    "version": 3
   },
   "file_extension": ".py",
   "mimetype": "text/x-python",
   "name": "python",
   "nbconvert_exporter": "python",
   "pygments_lexer": "ipython3",
   "version": "3.6.4"
  }
 },
 "nbformat": 4,
 "nbformat_minor": 2
}
