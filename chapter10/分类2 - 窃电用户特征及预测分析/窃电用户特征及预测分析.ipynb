{
 "cells": [
  {
   "cell_type": "code",
   "execution_count": 2,
   "metadata": {},
   "outputs": [],
   "source": [
    "import pandas as pd\n",
    "import numpy as np\n",
    "import matplotlib.pyplot as plt\n",
    "from sklearn.svm import LinearSVC\n",
    "import sklearn.metrics as metrics\n",
    "from _datetime import datetime\n",
    "\n",
    "# 数据预处理开始\n",
    "# 创建特征\n",
    "column_names1 = ['CONS_NO', 'DT', 'KWH_END', 'KWH_BEGIN', 'KWH']\n",
    "stolen_electric_analysis_1 = pd.read_csv(r'stolen_electric_analysis_1.csv')\n",
    "# 替换缺失值\n",
    "stolen_electric_analysis_output_2 = stolen_electric_analysis_1.replace('nan', np.nan)\n",
    "# 丢弃缺失值\n",
    "stolen_electric_analysis_output_2 = stolen_electric_analysis_output_2.dropna(how='any')\n",
    "# 保存中间结果1-1.csv\n",
    "stolen_electric_analysis_output_2.to_csv('1-1.csv', index=False)"
   ]
  },
  {
   "cell_type": "code",
   "execution_count": 3,
   "metadata": {},
   "outputs": [
    {
     "name": "stdout",
     "output_type": "stream",
     "text": [
      "8910\n",
      "第三问结果行列数 (1013, 6)\n"
     ]
    }
   ],
   "source": [
    "# 在上表中添加输出有效开始时间和开始时间前一天用电量、有效结束时间和结束时间用电量、总用电量\n",
    "stolen_electric_analysis_output_2=pd.read_csv('1-1.csv')\n",
    "stolen_electric_analysis_2=pd.read_csv('stolen_electric_analysis_2.csv')\n",
    "\n",
    "CONS_NO_USER=stolen_electric_analysis_2['CONS_NO'].values\n",
    "CONS_NO_USER2=stolen_electric_analysis_output_2['CONS_NO'].values\n",
    "\n",
    "CONS_NO, START_DATE, START_KWH_READING1, END_DATE, END_KWH_READING, SUM_KWH = [], [], [], [], [], []\n",
    "for name in CONS_NO_USER:\n",
    "    if name in CONS_NO_USER2:\n",
    "        CONS_NO.append(name)\n",
    "        _group=stolen_electric_analysis_output_2[stolen_electric_analysis_output_2['CONS_NO']==name]\n",
    "        s1, s2, s3 = _group['DT'].values, _group['KWH_BEGIN'].values, _group['KWH_END'].values\n",
    "        START_DATE.append(s1[0])\n",
    "        START_KWH_READING1.append(s2[0])\n",
    "        END_DATE.append(s1[-1])\n",
    "        END_KWH_READING.append(s3[-1])\n",
    "        SUM_KWH.append(round(float(s3[-1] - s2[0]), 2))\n",
    "\n",
    "stolen_electric_analysis_output_3 = pd.DataFrame(\n",
    "    {'CONS_NO': CONS_NO, 'START_DATE': START_DATE, 'TOTAL_START_KWH': START_KWH_READING1, 'END_DATE': END_DATE,\n",
    "     'TOTAL_END_KWH': END_KWH_READING, 'SUM_KWH': SUM_KWH})\n",
    "stolen_electric_analysis_output_3.to_csv('1-2.csv', index=False)"
   ]
  },
  {
   "cell_type": "code",
   "execution_count": 7,
   "metadata": {},
   "outputs": [
    {
     "name": "stderr",
     "output_type": "stream",
     "text": [
      "D:\\anaconda\\lib\\site-packages\\sklearn\\utils\\validation.py:724: DataConversionWarning: A column-vector y was passed when a 1d array was expected. Please change the shape of y to (n_samples, ), for example using ravel().\n",
      "  y = column_or_1d(y, warn=True)\n",
      "D:\\anaconda\\lib\\site-packages\\sklearn\\svm\\base.py:929: ConvergenceWarning: Liblinear failed to converge, increase the number of iterations.\n",
      "  \"the number of iterations.\", ConvergenceWarning)\n"
     ]
    },
    {
     "name": "stdout",
     "output_type": "stream",
     "text": [
      "              precision    recall  f1-score   support\n",
      "\n",
      "           0       0.62      0.24      0.34        34\n",
      "           1       0.61      0.89      0.72        45\n",
      "\n",
      "    accuracy                           0.61        79\n",
      "   macro avg       0.61      0.56      0.53        79\n",
      "weighted avg       0.61      0.61      0.56        79\n",
      "\n"
     ]
    }
   ],
   "source": [
    "# 训练模型\n",
    "stolen_electric_analysis_2 = pd.read_csv(r'stolen_electric_analysis_2.csv')\n",
    "stolen_electric_analysis_output_3 = pd.read_csv(r'1-2.csv')\n",
    "train_data = pd.merge(stolen_electric_analysis_output_3, stolen_electric_analysis_2, left_on=\"CONS_NO\", right_on='CONS_NO')\n",
    "add_ = train_data[train_data['CHK_STATE'] == 1]\n",
    "\n",
    "for _ in range(0, 9):\n",
    "    train_data = pd.concat([train_data, add_])\n",
    "lsvc = LinearSVC()\n",
    "lsvc.fit(train_data[['SUM_KWH']], train_data[['CHK_STATE']])\n",
    "\n",
    "# 构建预测值\n",
    "stolen_electric_analysis_output_2 = pd.read_csv('1-1.csv')\n",
    "stolen_electric_analysis_3 = pd.read_csv(r'stolen_electric_analysis_3.csv')\n",
    "CONS_NO_USER = stolen_electric_analysis_3['CONS_NO'].values\n",
    "CONS_NO_USER2 = stolen_electric_analysis_output_2['CONS_NO'].values\n",
    "CONS_NO, START_DATE, START_KWH_READING1, END_DATE, END_KWH_READING, SUM_KWH = [], [], [], [], [], []\n",
    "\n",
    "for name in CONS_NO_USER:\n",
    "    if name in CONS_NO_USER2:\n",
    "        CONS_NO.append(name)\n",
    "        _group=stolen_electric_analysis_output_2[stolen_electric_analysis_output_2['CONS_NO']==name]\n",
    "        s1, s2, s3 = _group['DT'].values, _group['KWH_BEGIN'].values, _group['KWH_END'].values\n",
    "        START_DATE.append(s1[0])\n",
    "        START_KWH_READING1.append(s2[0])\n",
    "        END_DATE.append(s1[-1])\n",
    "        END_KWH_READING.append(s3[-1])\n",
    "        SUM_KWH.append(round(float(s3[-1] - s2[0]), 2))\n",
    "\n",
    "test_data_X=pd.DataFrame(\n",
    "    {'CONS_NO': CONS_NO, 'START_DATE': START_DATE, 'TOTAL_START_KWH': START_KWH_READING1, 'END_DATE': END_DATE,\n",
    "     'TOTAL_END_KWH': END_KWH_READING, 'SUM_KWH': SUM_KWH})\n",
    "stolen_electric_analysis_3_answer = pd.read_csv(r'stolen_electric_analysis_3_answer.csv')\n",
    "test_data = pd.merge(test_data_X, stolen_electric_analysis_3_answer, left_on=\"CONS_NO\", right_on='CONS_NO')\n",
    "\n",
    "X_test = test_data[['SUM_KWH']]  # pd.DataFrame({'SUM_KWH':SUM_KWH})\n",
    "y_test = test_data[['CHK_STATE']]\n",
    "_y = lsvc.predict(test_data[['SUM_KWH']])\n",
    "\n",
    "stolen_electric_analysis_output_4 = pd.DataFrame({'CONS_NO': test_data['CONS_NO'].values, 'CHK_STATE': _y})\n",
    "\n",
    "print(metrics.classification_report(y_test, lsvc.predict(X_test)))"
   ]
  },
  {
   "cell_type": "code",
   "execution_count": null,
   "metadata": {},
   "outputs": [],
   "source": []
  }
 ],
 "metadata": {
  "kernelspec": {
   "display_name": "Python 3",
   "language": "python",
   "name": "python3"
  },
  "language_info": {
   "codemirror_mode": {
    "name": "ipython",
    "version": 3
   },
   "file_extension": ".py",
   "mimetype": "text/x-python",
   "name": "python",
   "nbconvert_exporter": "python",
   "pygments_lexer": "ipython3",
   "version": "3.7.3"
  }
 },
 "nbformat": 4,
 "nbformat_minor": 2
}
